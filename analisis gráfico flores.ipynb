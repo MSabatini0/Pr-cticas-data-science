{
 "cells": [
  {
   "cell_type": "code",
   "execution_count": 2,
   "id": "51e8edfc",
   "metadata": {},
   "outputs": [],
   "source": [
    "import tensorflow as tf\n",
    "import tensorflow.compat.v2.feature_column as fc\n",
    "import numpy as np\n",
    "import pandas as pd\n",
    "import matplotlib.pyplot as plt"
   ]
  },
  {
   "cell_type": "code",
   "execution_count": 48,
   "id": "a5370e28",
   "metadata": {},
   "outputs": [
    {
     "data": {
      "text/plain": [
       "2    42\n",
       "Name: Species, dtype: int64"
      ]
     },
     "execution_count": 48,
     "metadata": {},
     "output_type": "execute_result"
    }
   ],
   "source": [
    "flower_path= tf.keras.utils.get_file('iris_training.csv', 'https://storage.googleapis.com/download.tensorflow.org/data/iris_training.csv')\n",
    "col_names= ['SepalLength', 'SepalWidth', 'PetalLength', 'PetalWidth', 'Species']\n",
    "dic_clases= {'0':'Setosa','1':'Versicolor', '2':'Virginica'}\n",
    "\n",
    "flowers= pd.read_csv(flower_path, names=col_names, header=0)\n",
    "\n",
    "resumen= flowers.groupby(['Species']).mean()\n",
    "setosa= flowers[flowers['Species']==0]\n",
    "versicolor= flowers[flowers['Species']==1]\n",
    "virginica= flowers[flowers['Species']==2]\n",
    "\n",
    "resumen['SepalRatio']= resumen['SepalLength']/resumen['SepalWidth']\n",
    "resumen['PetalRatio']= resumen['PetalLength']/resumen['PetalWidth']\n",
    "\n",
    "flowers[flowers['Species']==2]['Species'].value_counts() #cuenta de las plandas de cada especie"
   ]
  },
  {
   "cell_type": "code",
   "execution_count": 30,
   "id": "3dd71c81",
   "metadata": {},
   "outputs": [
    {
     "name": "stderr",
     "output_type": "stream",
     "text": [
      "C:\\Users\\msaba\\AppData\\Local\\Temp/ipykernel_3680/1501070010.py:4: SettingWithCopyWarning: \n",
      "A value is trying to be set on a copy of a slice from a DataFrame.\n",
      "Try using .loc[row_indexer,col_indexer] = value instead\n",
      "\n",
      "See the caveats in the documentation: https://pandas.pydata.org/pandas-docs/stable/user_guide/indexing.html#returning-a-view-versus-a-copy\n",
      "  specie['SepalRatio']= specie['SepalLength']/specie['SepalWidth']\n",
      "C:\\Users\\msaba\\AppData\\Local\\Temp/ipykernel_3680/1501070010.py:5: SettingWithCopyWarning: \n",
      "A value is trying to be set on a copy of a slice from a DataFrame.\n",
      "Try using .loc[row_indexer,col_indexer] = value instead\n",
      "\n",
      "See the caveats in the documentation: https://pandas.pydata.org/pandas-docs/stable/user_guide/indexing.html#returning-a-view-versus-a-copy\n",
      "  specie['PetalRatio']= specie['PetalLength']/specie['PetalWidth']\n"
     ]
    },
    {
     "data": {
      "text/html": [
       "<div>\n",
       "<style scoped>\n",
       "    .dataframe tbody tr th:only-of-type {\n",
       "        vertical-align: middle;\n",
       "    }\n",
       "\n",
       "    .dataframe tbody tr th {\n",
       "        vertical-align: top;\n",
       "    }\n",
       "\n",
       "    .dataframe thead th {\n",
       "        text-align: right;\n",
       "    }\n",
       "</style>\n",
       "<table border=\"1\" class=\"dataframe\">\n",
       "  <thead>\n",
       "    <tr style=\"text-align: right;\">\n",
       "      <th></th>\n",
       "      <th>SepalLength</th>\n",
       "      <th>SepalWidth</th>\n",
       "      <th>PetalLength</th>\n",
       "      <th>PetalWidth</th>\n",
       "      <th>Species</th>\n",
       "      <th>SepalRatio</th>\n",
       "      <th>PetalRatio</th>\n",
       "    </tr>\n",
       "  </thead>\n",
       "  <tbody>\n",
       "    <tr>\n",
       "      <th>3</th>\n",
       "      <td>4.9</td>\n",
       "      <td>3.1</td>\n",
       "      <td>1.5</td>\n",
       "      <td>0.1</td>\n",
       "      <td>0</td>\n",
       "      <td>1.580645</td>\n",
       "      <td>15.000000</td>\n",
       "    </tr>\n",
       "    <tr>\n",
       "      <th>4</th>\n",
       "      <td>5.7</td>\n",
       "      <td>3.8</td>\n",
       "      <td>1.7</td>\n",
       "      <td>0.3</td>\n",
       "      <td>0</td>\n",
       "      <td>1.500000</td>\n",
       "      <td>5.666667</td>\n",
       "    </tr>\n",
       "    <tr>\n",
       "      <th>5</th>\n",
       "      <td>4.4</td>\n",
       "      <td>3.2</td>\n",
       "      <td>1.3</td>\n",
       "      <td>0.2</td>\n",
       "      <td>0</td>\n",
       "      <td>1.375000</td>\n",
       "      <td>6.500000</td>\n",
       "    </tr>\n",
       "    <tr>\n",
       "      <th>6</th>\n",
       "      <td>5.4</td>\n",
       "      <td>3.4</td>\n",
       "      <td>1.5</td>\n",
       "      <td>0.4</td>\n",
       "      <td>0</td>\n",
       "      <td>1.588235</td>\n",
       "      <td>3.750000</td>\n",
       "    </tr>\n",
       "    <tr>\n",
       "      <th>9</th>\n",
       "      <td>5.1</td>\n",
       "      <td>3.7</td>\n",
       "      <td>1.5</td>\n",
       "      <td>0.4</td>\n",
       "      <td>0</td>\n",
       "      <td>1.378378</td>\n",
       "      <td>3.750000</td>\n",
       "    </tr>\n",
       "    <tr>\n",
       "      <th>12</th>\n",
       "      <td>5.8</td>\n",
       "      <td>4.0</td>\n",
       "      <td>1.2</td>\n",
       "      <td>0.2</td>\n",
       "      <td>0</td>\n",
       "      <td>1.450000</td>\n",
       "      <td>6.000000</td>\n",
       "    </tr>\n",
       "    <tr>\n",
       "      <th>13</th>\n",
       "      <td>5.4</td>\n",
       "      <td>3.9</td>\n",
       "      <td>1.7</td>\n",
       "      <td>0.4</td>\n",
       "      <td>0</td>\n",
       "      <td>1.384615</td>\n",
       "      <td>4.250000</td>\n",
       "    </tr>\n",
       "    <tr>\n",
       "      <th>19</th>\n",
       "      <td>5.7</td>\n",
       "      <td>4.4</td>\n",
       "      <td>1.5</td>\n",
       "      <td>0.4</td>\n",
       "      <td>0</td>\n",
       "      <td>1.295455</td>\n",
       "      <td>3.750000</td>\n",
       "    </tr>\n",
       "    <tr>\n",
       "      <th>22</th>\n",
       "      <td>5.4</td>\n",
       "      <td>3.9</td>\n",
       "      <td>1.3</td>\n",
       "      <td>0.4</td>\n",
       "      <td>0</td>\n",
       "      <td>1.384615</td>\n",
       "      <td>3.250000</td>\n",
       "    </tr>\n",
       "    <tr>\n",
       "      <th>25</th>\n",
       "      <td>5.2</td>\n",
       "      <td>3.5</td>\n",
       "      <td>1.5</td>\n",
       "      <td>0.2</td>\n",
       "      <td>0</td>\n",
       "      <td>1.485714</td>\n",
       "      <td>7.500000</td>\n",
       "    </tr>\n",
       "  </tbody>\n",
       "</table>\n",
       "</div>"
      ],
      "text/plain": [
       "    SepalLength  SepalWidth  PetalLength  PetalWidth  Species  SepalRatio  \\\n",
       "3           4.9         3.1          1.5         0.1        0    1.580645   \n",
       "4           5.7         3.8          1.7         0.3        0    1.500000   \n",
       "5           4.4         3.2          1.3         0.2        0    1.375000   \n",
       "6           5.4         3.4          1.5         0.4        0    1.588235   \n",
       "9           5.1         3.7          1.5         0.4        0    1.378378   \n",
       "12          5.8         4.0          1.2         0.2        0    1.450000   \n",
       "13          5.4         3.9          1.7         0.4        0    1.384615   \n",
       "19          5.7         4.4          1.5         0.4        0    1.295455   \n",
       "22          5.4         3.9          1.3         0.4        0    1.384615   \n",
       "25          5.2         3.5          1.5         0.2        0    1.485714   \n",
       "\n",
       "    PetalRatio  \n",
       "3    15.000000  \n",
       "4     5.666667  \n",
       "5     6.500000  \n",
       "6     3.750000  \n",
       "9     3.750000  \n",
       "12    6.000000  \n",
       "13    4.250000  \n",
       "19    3.750000  \n",
       "22    3.250000  \n",
       "25    7.500000  "
      ]
     },
     "execution_count": 30,
     "metadata": {},
     "output_type": "execute_result"
    }
   ],
   "source": [
    "dataframes=[setosa, versicolor, virginica]\n",
    "\n",
    "for specie in dataframes:\n",
    "    specie['SepalRatio']= specie['SepalLength']/specie['SepalWidth']\n",
    "    specie['PetalRatio']= specie['PetalLength']/specie['PetalWidth']\n",
    "\n",
    "setosa.head(10)"
   ]
  },
  {
   "cell_type": "code",
   "execution_count": 35,
   "id": "befa2701",
   "metadata": {},
   "outputs": [
    {
     "data": {
      "image/png": "[encoded data removed]",
      "text/plain": [
       "<Figure size 432x288 with 1 Axes>"
      ]
     },
     "metadata": {
      "needs_background": "light"
     },
     "output_type": "display_data"
    }
   ],
   "source": [
    "#analisis gráfico de las especies usando las relacones largo/ancho\n",
    "plt.scatter(setosa['SepalRatio'], setosa['PetalRatio'], color='red')\n",
    "plt.scatter(versicolor['SepalRatio'], versicolor['PetalRatio'], color='blue')\n",
    "plt.scatter(virginica['SepalRatio'], virginica['PetalRatio'], color='green')\n",
    "\n",
    "plt.xlabel('SepalRatio (SepalLength / SepalWidth)', fontsize=11)\n",
    "plt.ylabel('PetalRatio (PetalLength / PetalWidth)', fontsize=11)\n",
    "plt.show()"
   ]
  },
  {
   "cell_type": "code",
   "execution_count": 38,
   "id": "523528bc",
   "metadata": {},
   "outputs": [
    {
     "data": {
      "image/png": "[encoded data removed]",
      "text/plain": [
       "<Figure size 432x288 with 1 Axes>"
      ]
     },
     "metadata": {
      "needs_background": "light"
     },
     "output_type": "display_data"
    }
   ],
   "source": [
    "#análisis gráfico de las especies usando tamaño de petalos\n",
    "plt.scatter(setosa['PetalLength'], setosa['PetalWidth'], color='red')\n",
    "plt.scatter(versicolor['PetalLength'], versicolor['PetalWidth'], color='blue')\n",
    "plt.scatter(virginica['PetalLength'], virginica['PetalWidth'], color='green')\n",
    "\n",
    "plt.xlabel('PetalLength', fontsize=11)\n",
    "plt.ylabel('PetalWidth', fontsize=11)\n",
    "plt.show()"
   ]
  },
  {
   "cell_type": "code",
   "execution_count": 39,
   "id": "96ebb08e",
   "metadata": {},
   "outputs": [
    {
     "data": {
      "image/png": "[encoded data removed]",
      "text/plain": [
       "<Figure size 432x288 with 1 Axes>"
      ]
     },
     "metadata": {
      "needs_background": "light"
     },
     "output_type": "display_data"
    }
   ],
   "source": [
    "#análisis gráfico de las especies usando tamaño de sepalos\n",
    "plt.scatter(setosa['SepalLength'], setosa['SepalWidth'], color='red')\n",
    "plt.scatter(versicolor['SepalLength'], versicolor['SepalWidth'], color='blue')\n",
    "plt.scatter(virginica['SepalLength'], virginica['SepalWidth'], color='green')\n",
    "\n",
    "plt.xlabel('SepalLength', fontsize=11)\n",
    "plt.ylabel('SepalWidth', fontsize=11)\n",
    "plt.show()"
   ]
  }
 ],
 "metadata": {
  "kernelspec": {
   "display_name": "Python 3 (ipykernel)",
   "language": "python",
   "name": "python3"
  },
  "language_info": {
   "codemirror_mode": {
    "name": "ipython",
    "version": 3
   },
   "file_extension": ".py",
   "mimetype": "text/x-python",
   "name": "python",
   "nbconvert_exporter": "python",
   "pygments_lexer": "ipython3",
   "version": "3.9.7"
  }
 },
 "nbformat": 4,
 "nbformat_minor": 5
}
