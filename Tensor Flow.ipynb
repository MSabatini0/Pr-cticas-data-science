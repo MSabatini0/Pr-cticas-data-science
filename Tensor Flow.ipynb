{
 "cells": [
  {
   "cell_type": "code",
   "execution_count": 6,
   "id": "b6b04e90",
   "metadata": {},
   "outputs": [
    {
     "data": {
      "text/plain": [
       "[VocabularyListCategoricalColumn(key='sex', vocabulary_list=('male', 'female'), dtype=tf.string, default_value=-1, num_oov_buckets=0),\n",
       " VocabularyListCategoricalColumn(key='n_siblings_spouses', vocabulary_list=(1, 0, 3, 4, 2, 5, 8), dtype=tf.int64, default_value=-1, num_oov_buckets=0),\n",
       " VocabularyListCategoricalColumn(key='parch', vocabulary_list=(0, 1, 2, 5, 3, 4), dtype=tf.int64, default_value=-1, num_oov_buckets=0),\n",
       " VocabularyListCategoricalColumn(key='class', vocabulary_list=('Third', 'First', 'Second'), dtype=tf.string, default_value=-1, num_oov_buckets=0),\n",
       " VocabularyListCategoricalColumn(key='deck', vocabulary_list=('unknown', 'C', 'G', 'A', 'B', 'D', 'F', 'E'), dtype=tf.string, default_value=-1, num_oov_buckets=0),\n",
       " VocabularyListCategoricalColumn(key='embark_town', vocabulary_list=('Southampton', 'Cherbourg', 'Queenstown', 'unknown'), dtype=tf.string, default_value=-1, num_oov_buckets=0),\n",
       " VocabularyListCategoricalColumn(key='alone', vocabulary_list=('n', 'y'), dtype=tf.string, default_value=-1, num_oov_buckets=0),\n",
       " NumericColumn(key='age', shape=(1,), default_value=None, dtype=tf.float32, normalizer_fn=None),\n",
       " NumericColumn(key='fare', shape=(1,), default_value=None, dtype=tf.float32, normalizer_fn=None)]"
      ]
     },
     "execution_count": 6,
     "metadata": {},
     "output_type": "execute_result"
    }
   ],
   "source": [
    "from __future__ import absolute_import, division, print_function, unicode_literals\n",
    "import tensorflow as tf\n",
    "import tensorflow.compat.v2.feature_column as fc\n",
    "import numpy as np\n",
    "import pandas as pd\n",
    "import matplotlib.pyplot as plt\n",
    "from IPython.display import clear_output\n",
    "from six.moves import urllib\n",
    "\n",
    "# string = tf.Variable('hola', tf.string)\n",
    "# print(string)\n",
    "\n",
    "dftrain = pd.read_csv('https://storage.googleapis.com/tf-datasets/titanic/train.csv')\n",
    "dfeval = pd.read_csv('https://storage.googleapis.com/tf-datasets/titanic/eval.csv')\n",
    "\n",
    "\n",
    "y_train = dftrain.pop('survived') #se separan las columnas que dicen si sobrevivió o no el pasajero\n",
    "y_eval = dfeval.pop('survived')\n",
    "\n",
    "#se separan los nombres de las columnas en funcion del tipo de dato que contienen\n",
    "col_cat = ['sex', 'n_siblings_spouses', 'parch', 'class', 'deck', 'embark_town', 'alone']\n",
    "col_num = ['age', 'fare']\n",
    "\n",
    "feature_columns=[]\n",
    "\n",
    "for feature in col_cat:\n",
    "    vocab = dftrain[feature].unique() #lista de los distintos valores que adoptan los datos en la columna\n",
    "    feature_columns.append(tf.feature_column.categorical_column_with_vocabulary_list(feature, vocab))\n",
    "    \n",
    "for feature in col_num:\n",
    "    feature_columns.append(tf.feature_column.numeric_column(feature, dtype=tf.float32))\n",
    "    \n",
    "feature_columns #es una lista de \"tensores\n"
   ]
  },
  {
   "cell_type": "code",
   "execution_count": 2,
   "id": "2d1c4ab9",
   "metadata": {},
   "outputs": [],
   "source": [
    "#dftrain.age.hist(bins=30)"
   ]
  },
  {
   "cell_type": "code",
   "execution_count": 3,
   "id": "29c8aea2",
   "metadata": {},
   "outputs": [],
   "source": [
    "#dftrain.sex.value_counts()"
   ]
  },
  {
   "cell_type": "code",
   "execution_count": 4,
   "id": "09483906",
   "metadata": {},
   "outputs": [],
   "source": [
    "#dftrain['class'].value_counts()#.plot(kind='barh')"
   ]
  },
  {
   "cell_type": "code",
   "execution_count": 72,
   "id": "7cb75911",
   "metadata": {},
   "outputs": [
    {
     "data": {
      "text/plain": [
       "Text(0, 0.5, '%survived')"
      ]
     },
     "execution_count": 72,
     "metadata": {},
     "output_type": "execute_result"
    },
    {
     "data": {
      "image/png": "[encoded data removed]",
      "text/plain": [
       "<Figure size 432x288 with 1 Axes>"
      ]
     },
     "metadata": {
      "needs_background": "light"
     },
     "output_type": "display_data"
    }
   ],
   "source": [
    "pd.concat([dftrain, y_train], axis=1).groupby('class').survived.mean().plot(kind='bar').set_ylabel('%survived')"
   ]
  },
  {
   "cell_type": "code",
   "execution_count": 6,
   "id": "395f2567",
   "metadata": {},
   "outputs": [],
   "source": [
    "# pd.concat([dftrain, y_train], axis=1).groupby('sex').survived.mean().plot(kind='bar').set_ylabel('%survived')\n",
    "# new= pd.concat([dftrain, y_train], axis=1).groupby('sex').mean()\n",
    "# new"
   ]
  },
  {
   "cell_type": "code",
   "execution_count": 61,
   "id": "75dc9b0e",
   "metadata": {},
   "outputs": [
    {
     "name": "stdout",
     "output_type": "stream",
     "text": [
      "0.7878788\n"
     ]
    }
   ],
   "source": [
    "def make_input_fn(data_df, label_df, num_epochs=300, shuffle=True, batch_size=100):\n",
    "    def input_function(): #funcion interna que será el resultado de la primer función \n",
    "        ds= tf.data.Dataset.from_tensor_slices((dict(data_df),label_df)) #crea un objeto de la calse tf a partir del dataframe original (pd)\n",
    "        if shuffle:\n",
    "            ds=ds.shuffle(1000) #randomiza el orden de los datos\n",
    "        ds=ds.batch(batch_size).repeat(num_epochs) #divide los datos en grupos o batchs de a 32, muchas veces (num_epochs veces)\n",
    "        return ds #devuelve el batch de datos del dataframe\n",
    "    return input_function #devuelve la funcion a utilizar\n",
    "\n",
    "train_input_fn= make_input_fn(dftrain, y_train)\n",
    "eval_input_fn= make_input_fn(dfeval, y_eval, num_epochs=1, shuffle=False) # no necesitamos suffle porque esto no es un entrenamiento\n",
    "\n",
    "\n",
    "linear_est= tf.estimator.LinearClassifier(feature_columns=feature_columns)\n",
    "\n",
    "linear_est.train(train_input_fn) #entrenamiento\n",
    "result= linear_est.evaluate (eval_input_fn) #obtiene metricas y estadisticas del modelo evaluandolo con \"testing data\"\n",
    "\n",
    "clear_output()\n",
    "print(result['accuracy'])\n"
   ]
  },
  {
   "cell_type": "code",
   "execution_count": 62,
   "id": "e0206a7b",
   "metadata": {},
   "outputs": [
    {
     "name": "stdout",
     "output_type": "stream",
     "text": [
      "INFO:tensorflow:Calling model_fn.\n",
      "INFO:tensorflow:Done calling model_fn.\n",
      "INFO:tensorflow:Graph was finalized.\n",
      "INFO:tensorflow:Restoring parameters from C:\\Users\\msaba\\AppData\\Local\\Temp\\tmpcz6b9d8h\\model.ckpt-2100\n",
      "INFO:tensorflow:Running local_init_op.\n",
      "INFO:tensorflow:Done running local_init_op.\n"
     ]
    }
   ],
   "source": [
    "result2 = list(linear_est.predict(eval_input_fn))\n",
    "\n",
    "# x= 1 #indice del individuo a evaluar\n",
    "\n",
    "# print(dfeval.loc[x])\n",
    "\n",
    "# print(str(round((float(result2[x]['probabilities'][1])*100),2)) + '%') #probabilidad de sobrevivir de cada individuo de la lista (primer corchete)\n",
    "\n",
    "# if y_eval[x]==1: #esto evalua si efectivametne el individuo sobrevivio segun los datos\n",
    "#     print ('Survived')\n",
    "# else:\n",
    "#     print ('Did not Survived')\n"
   ]
  },
  {
   "cell_type": "code",
   "execution_count": 69,
   "id": "118fc8d4",
   "metadata": {},
   "outputs": [
    {
     "name": "stdout",
     "output_type": "stream",
     "text": [
      "sex                          male\n",
      "age                          54.0\n",
      "n_siblings_spouses              0\n",
      "parch                           0\n",
      "fare                      51.8625\n",
      "class                       First\n",
      "deck                            E\n",
      "embark_town           Southampton\n",
      "alone                           y\n",
      "Name: 1, dtype: object\n",
      "47.04%\n",
      "Did not Survived\n"
     ]
    }
   ],
   "source": [
    "x= 1 #indice del individuo a evaluar\n",
    "\n",
    "print(dfeval.loc[x])\n",
    "\n",
    "print(str(round(float(result2[x]['probabilities'][1]*100),2)) + '%') #probabilidad de sobrevivir de cada individuo de la lista (primer corchete)\n",
    "\n",
    "if y_eval[x]==1: #esto evalua si efectivametne el individuo sobrevivio segun los datos\n",
    "    print ('Survived')\n",
    "else:\n",
    "    print ('Did not Survived')"
   ]
  },
  {
   "cell_type": "markdown",
   "id": "ea6f2207",
   "metadata": {},
   "source": [
    "evaluación casera de la exactitud del modelo, comparar result2[x]['probabilities'][1] con y_eval[x]"
   ]
  },
  {
   "cell_type": "code",
   "execution_count": 63,
   "id": "70018771",
   "metadata": {},
   "outputs": [
    {
     "name": "stdout",
     "output_type": "stream",
     "text": [
      "el modelo predice correctamente 154 de 200 predicciones\n",
      "el porcentaje de aciertos es 0.77\n",
      "accuracy del modelo es 0.79\n"
     ]
    }
   ],
   "source": [
    "x=0\n",
    "y=200 #numero de individuos a evaluar:\n",
    "probabilidad=0.8 #probabilidad considerada umbral para ver supervivencia\n",
    "aciertos=0\n",
    "\n",
    "while x<y:\n",
    "    if result2[x]['probabilities'][1]>probabilidad and y_eval[x]==1:\n",
    "        aciertos+=1\n",
    "        \n",
    "    elif result2[x]['probabilities'][1]<probabilidad and y_eval[x]==0:\n",
    "        aciertos+=1\n",
    "    x+=1\n",
    "\n",
    "print ('el modelo predice correctamente {} de {} predicciones'.format(aciertos, y))\n",
    "print ('el porcentaje de aciertos es {:.2f}'.format(aciertos/y))\n",
    "print ('accuracy del modelo es {:.2f}'.format(result['accuracy']))\n",
    "\n",
    "#esto da 149 de 200 (aprox 75%), es lo mismo que el accuracy del modelo\n",
    "#datos, total pasajeros titanic=2223, total sobrevivientes=705, % muertes= 68%... muertes por clase= 75% (3), 59%(2), 38% (1)"
   ]
  },
  {
   "cell_type": "code",
   "execution_count": 71,
   "id": "b7c60839",
   "metadata": {},
   "outputs": [
    {
     "name": "stdout",
     "output_type": "stream",
     "text": [
      "[0.063622475, 0.47038382, 0.72286695, 0.5736653, 0.22737265, 0.7875071, 0.36278978, 0.106436364, 0.660223, 0.75931674, 0.6872952, 0.10633618, 0.93465227, 0.45972174, 0.87432116, 0.47023368, 0.13419726, 0.8578306, 0.115250014, 0.07955125, 0.110229716, 0.12279749, 0.70467335, 0.056786273, 0.7139483, 0.5910904, 0.18759196, 0.30274913, 0.21140009, 0.8967599, 0.10262408, 0.79855067, 0.18066145, 0.68560284, 0.32628998, 0.085541226, 0.18553507, 0.10033117, 0.92869586, 0.07666418, 0.71038365, 0.14448924, 0.22298503, 0.35202834, 0.16173358, 0.89401835, 0.10638627, 0.3118415, 0.5658046, 0.49287868, 0.098511964, 0.2190382, 0.04671454, 0.0646179, 0.11843087, 0.09516144, 0.15285711, 0.97156966, 0.16909291, 0.08248812, 0.2738613, 0.5618449, 0.18507843, 0.88494074, 0.15672427, 0.67035353, 0.5589582, 0.06759612, 0.09968976, 0.69791514, 0.94375247, 0.6282883, 0.024241317, 0.114307985, 0.10292209, 0.07709796, 0.102622546, 0.10033117, 0.73654664, 0.9762772, 0.68013996, 0.45972174, 0.14303908, 0.98271275, 0.074781775, 0.74737227, 0.66150755, 0.06473553, 0.8148781, 0.8449598, 0.9747843, 0.17787266, 0.09496001, 0.9850965, 0.6306168, 0.7633318, 0.2836044, 0.04893168, 0.09948908, 0.309662, 0.07642578, 0.81700224, 0.63042206, 0.41028616, 0.6959038, 0.15929422, 0.87677556, 0.9014836, 0.7400158, 0.058514852, 0.79663026, 0.70568943, 0.7138219, 0.034493025, 0.91852736, 0.7677584, 0.079497255, 0.7433715, 0.08228231, 0.8049241, 0.71635765, 0.09166223, 0.7075642, 0.8752406, 0.08608452, 0.08253732, 0.61636084, 0.098722115, 0.08060593, 0.15617484, 0.056959633, 0.69820714, 0.10247705, 0.03589741, 0.07666418, 0.106116064, 0.12973155, 0.12562092, 0.9342156, 0.0848159, 0.095432475, 0.6871857, 0.96712077, 0.08727722, 0.09521126, 0.08253732, 0.62136906, 0.10504623, 0.1223098, 0.054682676, 0.122311704, 0.08461977, 0.14905347, 0.11371206, 0.4294912, 0.15056913, 0.1222969, 0.16382203, 0.64351374, 0.122311704, 0.6872952, 0.11708971, 0.9705345, 0.7416347, 0.07114167, 0.95089096, 0.06786648, 0.12298452, 0.98602617, 0.10268241, 0.84122795, 0.08248812, 0.36802804, 0.045220062, 0.098722115, 0.6682981, 0.9586505, 0.12960622, 0.39795566, 0.10635791, 0.10970715, 0.3275206, 0.22262055, 0.96860754, 0.3939115, 0.11424219, 0.31620395, 0.6873669, 0.7657157, 0.19283783, 0.36846292, 0.07929818, 0.12933859, 0.90591013, 0.03466139, 0.09380676, 0.52086735, 0.6876461, 0.34499064, 0.05024611, 0.13582121, 0.069627225, 0.045220062, 0.08723169, 0.9790962, 0.8041008, 0.08840473, 0.6653593, 0.56335044, 0.06949082, 0.12177215, 0.1332226, 0.11056434, 0.6872839, 0.08359489, 0.59790665, 0.51414543, 0.0738374, 0.19316134, 0.7835784, 0.62494254, 0.08852325, 0.4790629, 0.22487065, 0.9370152, 0.9539063, 0.12693489, 0.66535646, 0.09605444, 0.1223098, 0.7033984, 0.09871742, 0.9414452, 0.8361382, 0.091834605, 0.72894937, 0.072757564, 0.28761858, 0.08527096, 0.7291819, 0.5518331, 0.04668216, 0.2459357, 0.88355666, 0.4521944, 0.85505235, 0.48193347, 0.085917294, 0.110258974, 0.122959994, 0.014007427, 0.90637106, 0.68477, 0.122311704, 0.20390211, 0.9034772, 0.20081742, 0.08300137, 0.84171534, 0.8167269, 0.06852922, 0.3182202, 0.16909291, 0.42519644]\n"
     ]
    },
    {
     "data": {
      "text/plain": [
       "(array([ 1.,  1.,  3.,  6.,  4.,  9., 11., 18., 15., 15.,  6., 15.,  3.,\n",
       "         3.,  5.,  4.,  1.,  4.,  2.,  2.,  1.,  5.,  0.,  1.,  0.,  0.,\n",
       "         1.,  1.,  1.,  1.,  2.,  2.,  2.,  0.,  2.,  1.,  2.,  0.,  0.,\n",
       "         2.,  1.,  0.,  2.,  0.,  0.,  3.,  2.,  1.,  1.,  1.,  0.,  1.,\n",
       "         1.,  0.,  0.,  1.,  4.,  1.,  0.,  1.,  1.,  1.,  2.,  3.,  1.,\n",
       "         0.,  2.,  4.,  1.,  8.,  4.,  5.,  3.,  2.,  3.,  2.,  1.,  3.,\n",
       "         0.,  2.,  2.,  2.,  3.,  0.,  1.,  3.,  2.,  0.,  3.,  2.,  2.,\n",
       "         4.,  0.,  1.,  4.,  2.,  2.,  1.,  6.,  4.]),\n",
       " array([0.01400743, 0.02372761, 0.0334478 , 0.04316799, 0.05288818,\n",
       "        0.06260836, 0.07232855, 0.08204874, 0.09176893, 0.10148911,\n",
       "        0.1112093 , 0.12092949, 0.13064967, 0.14036986, 0.15009005,\n",
       "        0.15981025, 0.16953042, 0.17925061, 0.1889708 , 0.19869098,\n",
       "        0.20841117, 0.21813136, 0.22785155, 0.23757173, 0.24729192,\n",
       "        0.2570121 , 0.2667323 , 0.27645248, 0.2861727 , 0.29589286,\n",
       "        0.30561304, 0.31533325, 0.32505342, 0.3347736 , 0.3444938 ,\n",
       "        0.35421398, 0.36393416, 0.37365437, 0.38337454, 0.39309475,\n",
       "        0.40281492, 0.4125351 , 0.4222553 , 0.43197548, 0.44169566,\n",
       "        0.45141587, 0.46113604, 0.47085625, 0.48057643, 0.4902966 ,\n",
       "        0.5000168 , 0.50973696, 0.51945716, 0.52917737, 0.5388976 ,\n",
       "        0.5486177 , 0.5583379 , 0.56805813, 0.5777783 , 0.5874985 ,\n",
       "        0.5972187 , 0.60693884, 0.61665905, 0.62637925, 0.6360994 ,\n",
       "        0.6458196 , 0.6555398 , 0.66525996, 0.67498016, 0.68470037,\n",
       "        0.6944205 , 0.7041407 , 0.7138609 , 0.72358114, 0.7333013 ,\n",
       "        0.7430215 , 0.7527417 , 0.76246184, 0.77218205, 0.78190225,\n",
       "        0.7916224 , 0.8013426 , 0.8110628 , 0.82078296, 0.83050317,\n",
       "        0.8402234 , 0.8499435 , 0.8596637 , 0.86938393, 0.8791041 ,\n",
       "        0.8888243 , 0.8985445 , 0.9082647 , 0.91798484, 0.92770505,\n",
       "        0.93742526, 0.9471454 , 0.9568656 , 0.9665858 , 0.97630596,\n",
       "        0.98602617], dtype=float32),\n",
       " <BarContainer object of 100 artists>)"
      ]
     },
     "execution_count": 71,
     "metadata": {},
     "output_type": "execute_result"
    },
    {
     "data": {
      "image/png": "[encoded data removed]",
      "text/plain": [
       "<Figure size 432x288 with 1 Axes>"
      ]
     },
     "metadata": {
      "needs_background": "light"
     },
     "output_type": "display_data"
    }
   ],
   "source": [
    "probabilidades=[]\n",
    "for i in range(len(result2)):\n",
    "    probabilidades.append(result2[i]['probabilities'][1])\n",
    "    \n",
    "print (probabilidades)\n",
    "\n",
    "plt.hist(probabilidades, 100)"
   ]
  }
 ],
 "metadata": {
  "kernelspec": {
   "display_name": "Python 3 (ipykernel)",
   "language": "python",
   "name": "python3"
  },
  "language_info": {
   "codemirror_mode": {
    "name": "ipython",
    "version": 3
   },
   "file_extension": ".py",
   "mimetype": "text/x-python",
   "name": "python",
   "nbconvert_exporter": "python",
   "pygments_lexer": "ipython3",
   "version": "3.9.7"
  }
 },
 "nbformat": 4,
 "nbformat_minor": 5
}
