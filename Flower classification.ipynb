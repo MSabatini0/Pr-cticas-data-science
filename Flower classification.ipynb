{
 "cells": [
  {
   "cell_type": "code",
   "execution_count": 2,
   "metadata": {},
   "outputs": [],
   "source": [
    "import tensorflow as tf\n",
    "import tensorflow.compat.v2.feature_column as fc\n",
    "import numpy as np\n",
    "import pandas as pd\n",
    "import matplotlib.pyplot as plt"
   ]
  },
  {
   "cell_type": "code",
   "execution_count": 4,
   "metadata": {},
   "outputs": [
    {
     "data": {
      "text/html": [
       "<div>\n",
       "<style scoped>\n",
       "    .dataframe tbody tr th:only-of-type {\n",
       "        vertical-align: middle;\n",
       "    }\n",
       "\n",
       "    .dataframe tbody tr th {\n",
       "        vertical-align: top;\n",
       "    }\n",
       "\n",
       "    .dataframe thead th {\n",
       "        text-align: right;\n",
       "    }\n",
       "</style>\n",
       "<table border=\"1\" class=\"dataframe\">\n",
       "  <thead>\n",
       "    <tr style=\"text-align: right;\">\n",
       "      <th></th>\n",
       "      <th>SepalLength</th>\n",
       "      <th>SepalWidth</th>\n",
       "      <th>PetalLength</th>\n",
       "      <th>PetalWidth</th>\n",
       "    </tr>\n",
       "  </thead>\n",
       "  <tbody>\n",
       "    <tr>\n",
       "      <th>0</th>\n",
       "      <td>6.4</td>\n",
       "      <td>2.8</td>\n",
       "      <td>5.6</td>\n",
       "      <td>2.2</td>\n",
       "    </tr>\n",
       "    <tr>\n",
       "      <th>1</th>\n",
       "      <td>5.0</td>\n",
       "      <td>2.3</td>\n",
       "      <td>3.3</td>\n",
       "      <td>1.0</td>\n",
       "    </tr>\n",
       "    <tr>\n",
       "      <th>2</th>\n",
       "      <td>4.9</td>\n",
       "      <td>2.5</td>\n",
       "      <td>4.5</td>\n",
       "      <td>1.7</td>\n",
       "    </tr>\n",
       "    <tr>\n",
       "      <th>3</th>\n",
       "      <td>4.9</td>\n",
       "      <td>3.1</td>\n",
       "      <td>1.5</td>\n",
       "      <td>0.1</td>\n",
       "    </tr>\n",
       "    <tr>\n",
       "      <th>4</th>\n",
       "      <td>5.7</td>\n",
       "      <td>3.8</td>\n",
       "      <td>1.7</td>\n",
       "      <td>0.3</td>\n",
       "    </tr>\n",
       "    <tr>\n",
       "      <th>...</th>\n",
       "      <td>...</td>\n",
       "      <td>...</td>\n",
       "      <td>...</td>\n",
       "      <td>...</td>\n",
       "    </tr>\n",
       "    <tr>\n",
       "      <th>115</th>\n",
       "      <td>5.5</td>\n",
       "      <td>2.6</td>\n",
       "      <td>4.4</td>\n",
       "      <td>1.2</td>\n",
       "    </tr>\n",
       "    <tr>\n",
       "      <th>116</th>\n",
       "      <td>5.7</td>\n",
       "      <td>3.0</td>\n",
       "      <td>4.2</td>\n",
       "      <td>1.2</td>\n",
       "    </tr>\n",
       "    <tr>\n",
       "      <th>117</th>\n",
       "      <td>4.4</td>\n",
       "      <td>2.9</td>\n",
       "      <td>1.4</td>\n",
       "      <td>0.2</td>\n",
       "    </tr>\n",
       "    <tr>\n",
       "      <th>118</th>\n",
       "      <td>4.8</td>\n",
       "      <td>3.0</td>\n",
       "      <td>1.4</td>\n",
       "      <td>0.1</td>\n",
       "    </tr>\n",
       "    <tr>\n",
       "      <th>119</th>\n",
       "      <td>5.5</td>\n",
       "      <td>2.4</td>\n",
       "      <td>3.7</td>\n",
       "      <td>1.0</td>\n",
       "    </tr>\n",
       "  </tbody>\n",
       "</table>\n",
       "<p>120 rows × 4 columns</p>\n",
       "</div>"
      ],
      "text/plain": [
       "     SepalLength  SepalWidth  PetalLength  PetalWidth\n",
       "0            6.4         2.8          5.6         2.2\n",
       "1            5.0         2.3          3.3         1.0\n",
       "2            4.9         2.5          4.5         1.7\n",
       "3            4.9         3.1          1.5         0.1\n",
       "4            5.7         3.8          1.7         0.3\n",
       "..           ...         ...          ...         ...\n",
       "115          5.5         2.6          4.4         1.2\n",
       "116          5.7         3.0          4.2         1.2\n",
       "117          4.4         2.9          1.4         0.2\n",
       "118          4.8         3.0          1.4         0.1\n",
       "119          5.5         2.4          3.7         1.0\n",
       "\n",
       "[120 rows x 4 columns]"
      ]
     },
     "execution_count": 4,
     "metadata": {},
     "output_type": "execute_result"
    }
   ],
   "source": [
    "col_names= ['SepalLength', 'SepalWidth', 'PetalLength', 'PetalWidth', 'Species']\n",
    "species= ['Setosa', 'Versicolor', 'Virginica']\n",
    "\n",
    "train_path= tf.keras.utils.get_file('iris_training.csv', 'https://storage.googleapis.com/download.tensorflow.org/data/iris_training.csv')\n",
    "test_path= tf.keras.utils.get_file('iris_test.csv', 'https://storage.googleapis.com/download.tensorflow.org/data/iris_test.csv')\n",
    "#keras lee un csv y lo descarga con el nombre indicado\n",
    "\n",
    "train= pd.read_csv(train_path, names=col_names, header=0)\n",
    "test= pd.read_csv(test_path, names=col_names, header=0)\n",
    "\n",
    "train_y= train.pop('Species')\n",
    "test_y= test.pop('Species')\n",
    "pd.concat([train, train_y],axis=1).head(5)\n",
    "                 "
   ]
  },
  {
   "cell_type": "code",
   "execution_count": 10,
   "metadata": {},
   "outputs": [
    {
     "name": "stderr",
     "output_type": "stream",
     "text": [
      "C:\\Users\\msaba\\anaconda3\\lib\\site-packages\\seaborn\\categorical.py:1296: UserWarning: 20.8% of the points cannot be placed; you may want to decrease the size of the markers or use stripplot.\n",
      "  warnings.warn(msg, UserWarning)\n",
      "C:\\Users\\msaba\\anaconda3\\lib\\site-packages\\seaborn\\categorical.py:1296: UserWarning: 5.8% of the points cannot be placed; you may want to decrease the size of the markers or use stripplot.\n",
      "  warnings.warn(msg, UserWarning)\n",
      "C:\\Users\\msaba\\anaconda3\\lib\\site-packages\\seaborn\\categorical.py:1296: UserWarning: 14.2% of the points cannot be placed; you may want to decrease the size of the markers or use stripplot.\n",
      "  warnings.warn(msg, UserWarning)\n"
     ]
    },
    {
     "data": {
      "image/png": "[encoded data removed]",
      "text/plain": [
       "<Figure size 432x432 with 1 Axes>"
      ]
     },
     "metadata": {
      "needs_background": "light"
     },
     "output_type": "display_data"
    }
   ],
   "source": [
    "import seaborn as sns\n",
    "\n",
    "data = pd.melt(pd.concat([train, train_y],axis=1), id_vars = 'Species', var_name = 'features',value_name = 'value')\n",
    "data\n",
    "\n",
    "plt.figure(figsize = (6,6))\n",
    "sns.swarmplot(x = 'features', y = 'value', hue = 'Species', data = data)\n",
    "plt.show()"
   ]
  },
  {
   "cell_type": "code",
   "execution_count": 13,
   "metadata": {},
   "outputs": [
    {
     "data": {
      "text/plain": [
       "<AxesSubplot:>"
      ]
     },
     "execution_count": 13,
     "metadata": {},
     "output_type": "execute_result"
    },
    {
     "data": {
      "image/png": "[encoded data removed]",
      "text/plain": [
       "<Figure size 432x288 with 2 Axes>"
      ]
     },
     "metadata": {
      "needs_background": "light"
     },
     "output_type": "display_data"
    }
   ],
   "source": [
    "sns.heatmap(train.corr(), annot=True)"
   ]
  },
  {
   "cell_type": "code",
   "execution_count": 3,
   "metadata": {},
   "outputs": [],
   "source": [
    "def input_fn(features, label, training=True, batch_size=256):\n",
    "    data= tf.data.Dataset.from_tensor_slices((dict(features), label))\n",
    "    \n",
    "    if training:\n",
    "        data= data.shuffle(1000).repeat()\n",
    "        \n",
    "    return data.batch(batch_size)"
   ]
  },
  {
   "cell_type": "code",
   "execution_count": 4,
   "metadata": {},
   "outputs": [],
   "source": [
    "feature_columns= []\n",
    "\n",
    "for key in train.keys():\n",
    "    feature_columns.append(tf.feature_column.numeric_column(key=key))"
   ]
  },
  {
   "cell_type": "code",
   "execution_count": 5,
   "metadata": {},
   "outputs": [
    {
     "name": "stdout",
     "output_type": "stream",
     "text": [
      "INFO:tensorflow:Using default config.\n",
      "WARNING:tensorflow:Using temporary folder as model directory: C:\\Users\\msaba\\AppData\\Local\\Temp\\tmpmp7j0lpv\n",
      "INFO:tensorflow:Using config: {'_model_dir': 'C:\\\\Users\\\\msaba\\\\AppData\\\\Local\\\\Temp\\\\tmpmp7j0lpv', '_tf_random_seed': None, '_save_summary_steps': 100, '_save_checkpoints_steps': None, '_save_checkpoints_secs': 600, '_session_config': allow_soft_placement: true\n",
      "graph_options {\n",
      "  rewrite_options {\n",
      "    meta_optimizer_iterations: ONE\n",
      "  }\n",
      "}\n",
      ", '_keep_checkpoint_max': 5, '_keep_checkpoint_every_n_hours': 10000, '_log_step_count_steps': 100, '_train_distribute': None, '_device_fn': None, '_protocol': None, '_eval_distribute': None, '_experimental_distribute': None, '_experimental_max_worker_delay_secs': None, '_session_creation_timeout_secs': 7200, '_checkpoint_save_graph_def': True, '_service': None, '_cluster_spec': ClusterSpec({}), '_task_type': 'worker', '_task_id': 0, '_global_id_in_cluster': 0, '_master': '', '_evaluation_master': '', '_is_chief': True, '_num_ps_replicas': 0, '_num_worker_replicas': 1}\n"
     ]
    }
   ],
   "source": [
    "#se construye una red neural con 2 capas escondidas, con 30 y 10 nodos cada capa. esto es solo la carcaza de la red neural\n",
    "classifier = tf.estimator.DNNClassifier(\n",
    "    feature_columns= feature_columns,\n",
    "    hidden_units= [30,10],\n",
    "    n_classes=3) #el modelo elige entre 3 clases "
   ]
  },
  {
   "cell_type": "code",
   "execution_count": 6,
   "metadata": {},
   "outputs": [
    {
     "name": "stdout",
     "output_type": "stream",
     "text": [
      "WARNING:tensorflow:From C:\\Users\\msaba\\anaconda3\\envs\\tensorflow\\lib\\site-packages\\tensorflow\\python\\training\\training_util.py:400: Variable.initialized_value (from tensorflow.python.ops.variables) is deprecated and will be removed in a future version.\n",
      "Instructions for updating:\n",
      "Use Variable.read_value. Variables in 2.X are initialized automatically both in eager and graph (inside tf.defun) contexts.\n",
      "INFO:tensorflow:Calling model_fn.\n",
      "WARNING:tensorflow:From C:\\Users\\msaba\\anaconda3\\envs\\tensorflow\\lib\\site-packages\\keras\\optimizer_v2\\adagrad.py:83: calling Constant.__init__ (from tensorflow.python.ops.init_ops) with dtype is deprecated and will be removed in a future version.\n",
      "Instructions for updating:\n",
      "Call initializer instance with the dtype argument instead of passing it to the constructor\n",
      "INFO:tensorflow:Done calling model_fn.\n",
      "INFO:tensorflow:Create CheckpointSaverHook.\n",
      "INFO:tensorflow:Graph was finalized.\n",
      "INFO:tensorflow:Running local_init_op.\n",
      "INFO:tensorflow:Done running local_init_op.\n",
      "INFO:tensorflow:Calling checkpoint listeners before saving checkpoint 0...\n",
      "INFO:tensorflow:Saving checkpoints for 0 into C:\\Users\\msaba\\AppData\\Local\\Temp\\tmpmp7j0lpv\\model.ckpt.\n",
      "INFO:tensorflow:Calling checkpoint listeners after saving checkpoint 0...\n",
      "INFO:tensorflow:loss = 1.3332638, step = 0\n",
      "INFO:tensorflow:global_step/sec: 312.797\n",
      "INFO:tensorflow:loss = 1.0584118, step = 100 (0.320 sec)\n",
      "INFO:tensorflow:global_step/sec: 415.397\n",
      "INFO:tensorflow:loss = 0.9773916, step = 200 (0.256 sec)\n",
      "INFO:tensorflow:global_step/sec: 398.453\n",
      "INFO:tensorflow:loss = 0.9354807, step = 300 (0.251 sec)\n",
      "INFO:tensorflow:global_step/sec: 374.766\n",
      "INFO:tensorflow:loss = 0.8929899, step = 400 (0.251 sec)\n",
      "INFO:tensorflow:global_step/sec: 397.636\n",
      "INFO:tensorflow:loss = 0.8605991, step = 500 (0.251 sec)\n",
      "INFO:tensorflow:global_step/sec: 398.931\n",
      "INFO:tensorflow:loss = 0.8414875, step = 600 (0.251 sec)\n",
      "INFO:tensorflow:global_step/sec: 377.104\n",
      "INFO:tensorflow:loss = 0.81879973, step = 700 (0.265 sec)\n",
      "INFO:tensorflow:global_step/sec: 405.155\n",
      "INFO:tensorflow:loss = 0.7927533, step = 800 (0.262 sec)\n",
      "INFO:tensorflow:global_step/sec: 371.328\n",
      "INFO:tensorflow:loss = 0.78421926, step = 900 (0.254 sec)\n",
      "INFO:tensorflow:global_step/sec: 397.114\n",
      "INFO:tensorflow:loss = 0.7649306, step = 1000 (0.267 sec)\n",
      "INFO:tensorflow:global_step/sec: 397.239\n",
      "INFO:tensorflow:loss = 0.74715286, step = 1100 (0.252 sec)\n",
      "INFO:tensorflow:global_step/sec: 376.152\n",
      "INFO:tensorflow:loss = 0.7286862, step = 1200 (0.250 sec)\n",
      "INFO:tensorflow:global_step/sec: 400.139\n",
      "INFO:tensorflow:loss = 0.7162815, step = 1300 (0.250 sec)\n",
      "INFO:tensorflow:global_step/sec: 396.267\n",
      "INFO:tensorflow:loss = 0.69605243, step = 1400 (0.252 sec)\n",
      "INFO:tensorflow:global_step/sec: 376.574\n",
      "INFO:tensorflow:loss = 0.6759735, step = 1500 (0.266 sec)\n",
      "INFO:tensorflow:global_step/sec: 374.546\n",
      "INFO:tensorflow:loss = 0.67146206, step = 1600 (0.267 sec)\n",
      "INFO:tensorflow:global_step/sec: 398.358\n",
      "INFO:tensorflow:loss = 0.6534282, step = 1700 (0.251 sec)\n",
      "INFO:tensorflow:global_step/sec: 376.371\n",
      "INFO:tensorflow:loss = 0.64788145, step = 1800 (0.266 sec)\n",
      "INFO:tensorflow:global_step/sec: 399.099\n",
      "INFO:tensorflow:loss = 0.6344462, step = 1900 (0.251 sec)\n",
      "INFO:tensorflow:global_step/sec: 397.021\n",
      "INFO:tensorflow:loss = 0.62384784, step = 2000 (0.252 sec)\n",
      "INFO:tensorflow:global_step/sec: 376.555\n",
      "INFO:tensorflow:loss = 0.6090535, step = 2100 (0.266 sec)\n",
      "INFO:tensorflow:global_step/sec: 397.065\n",
      "INFO:tensorflow:loss = 0.5970049, step = 2200 (0.252 sec)\n",
      "INFO:tensorflow:global_step/sec: 376.92\n",
      "INFO:tensorflow:loss = 0.5897236, step = 2300 (0.265 sec)\n",
      "INFO:tensorflow:global_step/sec: 398.933\n",
      "INFO:tensorflow:loss = 0.5796466, step = 2400 (0.251 sec)\n",
      "INFO:tensorflow:global_step/sec: 373.498\n",
      "INFO:tensorflow:loss = 0.5633408, step = 2500 (0.268 sec)\n",
      "INFO:tensorflow:global_step/sec: 399.716\n",
      "INFO:tensorflow:loss = 0.5539924, step = 2600 (0.250 sec)\n",
      "INFO:tensorflow:global_step/sec: 374.277\n",
      "INFO:tensorflow:loss = 0.54789937, step = 2700 (0.267 sec)\n",
      "INFO:tensorflow:global_step/sec: 399.323\n",
      "INFO:tensorflow:loss = 0.549943, step = 2800 (0.250 sec)\n",
      "INFO:tensorflow:global_step/sec: 398.602\n",
      "INFO:tensorflow:loss = 0.539816, step = 2900 (0.251 sec)\n",
      "INFO:tensorflow:global_step/sec: 401.405\n",
      "INFO:tensorflow:loss = 0.5249003, step = 3000 (0.265 sec)\n",
      "INFO:tensorflow:global_step/sec: 398.361\n",
      "INFO:tensorflow:loss = 0.5095603, step = 3100 (0.235 sec)\n",
      "INFO:tensorflow:global_step/sec: 375.444\n",
      "INFO:tensorflow:loss = 0.4932305, step = 3200 (0.266 sec)\n",
      "INFO:tensorflow:global_step/sec: 398.984\n",
      "INFO:tensorflow:loss = 0.48316896, step = 3300 (0.251 sec)\n",
      "INFO:tensorflow:global_step/sec: 396.662\n",
      "INFO:tensorflow:loss = 0.47317106, step = 3400 (0.268 sec)\n",
      "INFO:tensorflow:global_step/sec: 376.652\n",
      "INFO:tensorflow:loss = 0.47082752, step = 3500 (0.250 sec)\n",
      "INFO:tensorflow:global_step/sec: 399.077\n",
      "INFO:tensorflow:loss = 0.43762073, step = 3600 (0.251 sec)\n",
      "INFO:tensorflow:global_step/sec: 399.513\n",
      "INFO:tensorflow:loss = 0.4353136, step = 3700 (0.266 sec)\n",
      "INFO:tensorflow:global_step/sec: 374.591\n",
      "INFO:tensorflow:loss = 0.43484446, step = 3800 (0.251 sec)\n",
      "INFO:tensorflow:global_step/sec: 398.921\n",
      "INFO:tensorflow:loss = 0.4160112, step = 3900 (0.251 sec)\n",
      "INFO:tensorflow:global_step/sec: 397.539\n",
      "INFO:tensorflow:loss = 0.40788507, step = 4000 (0.252 sec)\n",
      "INFO:tensorflow:global_step/sec: 374.804\n",
      "INFO:tensorflow:loss = 0.40347838, step = 4100 (0.267 sec)\n",
      "INFO:tensorflow:global_step/sec: 401.031\n",
      "INFO:tensorflow:loss = 0.39865834, step = 4200 (0.249 sec)\n",
      "INFO:tensorflow:global_step/sec: 398.902\n",
      "INFO:tensorflow:loss = 0.3967983, step = 4300 (0.251 sec)\n",
      "INFO:tensorflow:global_step/sec: 396.904\n",
      "INFO:tensorflow:loss = 0.3812874, step = 4400 (0.268 sec)\n",
      "INFO:tensorflow:global_step/sec: 375.907\n",
      "INFO:tensorflow:loss = 0.37390742, step = 4500 (0.250 sec)\n",
      "INFO:tensorflow:global_step/sec: 398.282\n",
      "INFO:tensorflow:loss = 0.3653165, step = 4600 (0.251 sec)\n",
      "INFO:tensorflow:global_step/sec: 378.52\n",
      "INFO:tensorflow:loss = 0.361407, step = 4700 (0.264 sec)\n",
      "INFO:tensorflow:global_step/sec: 396.469\n",
      "INFO:tensorflow:loss = 0.35221398, step = 4800 (0.252 sec)\n",
      "INFO:tensorflow:global_step/sec: 400.613\n",
      "INFO:tensorflow:loss = 0.34822416, step = 4900 (0.250 sec)\n",
      "INFO:tensorflow:global_step/sec: 399.699\n",
      "INFO:tensorflow:loss = 0.34997508, step = 5000 (0.250 sec)\n",
      "INFO:tensorflow:global_step/sec: 398.47\n",
      "INFO:tensorflow:loss = 0.34794772, step = 5100 (0.251 sec)\n",
      "INFO:tensorflow:global_step/sec: 378.46\n",
      "INFO:tensorflow:loss = 0.34173718, step = 5200 (0.264 sec)\n",
      "INFO:tensorflow:global_step/sec: 396.623\n",
      "INFO:tensorflow:loss = 0.34396774, step = 5300 (0.252 sec)\n",
      "INFO:tensorflow:global_step/sec: 397.633\n",
      "INFO:tensorflow:loss = 0.33630547, step = 5400 (0.251 sec)\n",
      "INFO:tensorflow:global_step/sec: 372.137\n",
      "INFO:tensorflow:loss = 0.3386416, step = 5500 (0.270 sec)\n",
      "INFO:tensorflow:global_step/sec: 375.539\n",
      "INFO:tensorflow:loss = 0.33131325, step = 5600 (0.267 sec)\n",
      "INFO:tensorflow:global_step/sec: 306.791\n",
      "INFO:tensorflow:loss = 0.3244697, step = 5700 (0.327 sec)\n",
      "INFO:tensorflow:global_step/sec: 354.11\n",
      "INFO:tensorflow:loss = 0.32702103, step = 5800 (0.279 sec)\n",
      "INFO:tensorflow:global_step/sec: 384.759\n",
      "INFO:tensorflow:loss = 0.32166332, step = 5900 (0.260 sec)\n",
      "INFO:tensorflow:global_step/sec: 401.34\n",
      "INFO:tensorflow:loss = 0.32459033, step = 6000 (0.249 sec)\n",
      "INFO:tensorflow:global_step/sec: 399.364\n",
      "INFO:tensorflow:loss = 0.30688304, step = 6100 (0.250 sec)\n",
      "INFO:tensorflow:global_step/sec: 326.155\n",
      "INFO:tensorflow:loss = 0.31620765, step = 6200 (0.311 sec)\n",
      "INFO:tensorflow:global_step/sec: 285.077\n",
      "INFO:tensorflow:loss = 0.30670106, step = 6300 (0.349 sec)\n",
      "INFO:tensorflow:global_step/sec: 407.785\n",
      "INFO:tensorflow:loss = 0.30550367, step = 6400 (0.243 sec)\n",
      "INFO:tensorflow:global_step/sec: 377.653\n",
      "INFO:tensorflow:loss = 0.3031217, step = 6500 (0.265 sec)\n",
      "INFO:tensorflow:global_step/sec: 396.957\n",
      "INFO:tensorflow:loss = 0.2976647, step = 6600 (0.252 sec)\n",
      "INFO:tensorflow:global_step/sec: 398.295\n",
      "INFO:tensorflow:loss = 0.29389563, step = 6700 (0.251 sec)\n",
      "INFO:tensorflow:global_step/sec: 375.207\n",
      "INFO:tensorflow:loss = 0.2947112, step = 6800 (0.267 sec)\n",
      "INFO:tensorflow:global_step/sec: 399.548\n",
      "INFO:tensorflow:loss = 0.2933054, step = 6900 (0.250 sec)\n",
      "INFO:tensorflow:global_step/sec: 399.884\n",
      "INFO:tensorflow:loss = 0.28759277, step = 7000 (0.266 sec)\n"
     ]
    },
    {
     "name": "stdout",
     "output_type": "stream",
     "text": [
      "INFO:tensorflow:global_step/sec: 375.554\n",
      "INFO:tensorflow:loss = 0.2931862, step = 7100 (0.251 sec)\n",
      "INFO:tensorflow:global_step/sec: 297.012\n",
      "INFO:tensorflow:loss = 0.28733432, step = 7200 (0.340 sec)\n",
      "INFO:tensorflow:global_step/sec: 365.258\n",
      "INFO:tensorflow:loss = 0.2814569, step = 7300 (0.271 sec)\n",
      "INFO:tensorflow:global_step/sec: 389.877\n",
      "INFO:tensorflow:loss = 0.28088248, step = 7400 (0.256 sec)\n",
      "INFO:tensorflow:global_step/sec: 395.879\n",
      "INFO:tensorflow:loss = 0.2787043, step = 7500 (0.253 sec)\n",
      "INFO:tensorflow:global_step/sec: 426.786\n",
      "INFO:tensorflow:loss = 0.2781492, step = 7600 (0.250 sec)\n",
      "INFO:tensorflow:global_step/sec: 401.325\n",
      "INFO:tensorflow:loss = 0.26866862, step = 7700 (0.234 sec)\n",
      "INFO:tensorflow:global_step/sec: 399.322\n",
      "INFO:tensorflow:loss = 0.26842868, step = 7800 (0.250 sec)\n",
      "INFO:tensorflow:global_step/sec: 398.359\n",
      "INFO:tensorflow:loss = 0.25938696, step = 7900 (0.251 sec)\n",
      "INFO:tensorflow:Calling checkpoint listeners before saving checkpoint 8000...\n",
      "INFO:tensorflow:Saving checkpoints for 8000 into C:\\Users\\msaba\\AppData\\Local\\Temp\\tmpmp7j0lpv\\model.ckpt.\n",
      "INFO:tensorflow:Calling checkpoint listeners after saving checkpoint 8000...\n",
      "INFO:tensorflow:Loss for final step: 0.26652905.\n"
     ]
    },
    {
     "data": {
      "text/plain": [
       "<tensorflow_estimator.python.estimator.canned.dnn.DNNClassifierV2 at 0x1f7efacf850>"
      ]
     },
     "execution_count": 6,
     "metadata": {},
     "output_type": "execute_result"
    }
   ],
   "source": [
    "classifier.train(\n",
    "input_fn= lambda: input_fn(train,train_y, training=True),\n",
    "    steps=8000) #steps es similar a epochs"
   ]
  },
  {
   "cell_type": "code",
   "execution_count": 7,
   "metadata": {},
   "outputs": [
    {
     "name": "stdout",
     "output_type": "stream",
     "text": [
      "INFO:tensorflow:Calling model_fn.\n",
      "INFO:tensorflow:Done calling model_fn.\n",
      "INFO:tensorflow:Starting evaluation at 2021-11-27T18:31:02\n",
      "INFO:tensorflow:Graph was finalized.\n",
      "INFO:tensorflow:Restoring parameters from C:\\Users\\msaba\\AppData\\Local\\Temp\\tmpmp7j0lpv\\model.ckpt-8000\n",
      "INFO:tensorflow:Running local_init_op.\n",
      "INFO:tensorflow:Done running local_init_op.\n",
      "INFO:tensorflow:Inference Time : 2.67767s\n",
      "INFO:tensorflow:Finished evaluation at 2021-11-27-18:31:04\n",
      "INFO:tensorflow:Saving dict for global step 8000: accuracy = 0.96666664, average_loss = 0.30477193, global_step = 8000, loss = 0.30477193\n",
      "INFO:tensorflow:Saving 'checkpoint_path' summary for global step 8000: C:\\Users\\msaba\\AppData\\Local\\Temp\\tmpmp7j0lpv\\model.ckpt-8000\n"
     ]
    }
   ],
   "source": [
    "eval_result= classifier.evaluate(\n",
    "    input_fn= lambda: input_fn(test,test_y, training=False), \n",
    "    steps=1000)\n",
    "#esta funcion requiere como input una funcion \"input_fn\", no el resultado de la misma, por eso se aplica una funcion lambda"
   ]
  },
  {
   "cell_type": "code",
   "execution_count": 8,
   "metadata": {},
   "outputs": [
    {
     "name": "stdout",
     "output_type": "stream",
     "text": [
      "Accuracy = 96.67%\n"
     ]
    }
   ],
   "source": [
    "#print(eval_result)\n",
    "print('Accuracy = {:.2f}%'.format(eval_result['accuracy']*100))"
   ]
  },
  {
   "cell_type": "code",
   "execution_count": 18,
   "metadata": {},
   "outputs": [
    {
     "name": "stdout",
     "output_type": "stream",
     "text": [
      "please type numeric values as prompted\n",
      "SepalLength:4\n",
      "SepalWidth:5\n",
      "PetalLength:6\n",
      "PetalWidth:7\n",
      "INFO:tensorflow:Calling model_fn.\n",
      "INFO:tensorflow:Done calling model_fn.\n",
      "INFO:tensorflow:Graph was finalized.\n",
      "INFO:tensorflow:Restoring parameters from C:\\Users\\msaba\\AppData\\Local\\Temp\\tmpmp7j0lpv\\model.ckpt-8000\n",
      "INFO:tensorflow:Running local_init_op.\n",
      "INFO:tensorflow:Done running local_init_op.\n",
      "prediction is Virginica and probaility is 98.96%\n"
     ]
    }
   ],
   "source": [
    "#para predecir una flor nueva\n",
    "\n",
    "def input_fn2(features, batch_size=256):\n",
    "    return tf.data.Dataset.from_tensor_slices(dict(features)).batch(batch_size)\n",
    "\n",
    "features= ['SepalLength', 'SepalWidth', 'PetalLength', 'PetalWidth']\n",
    "predict= {}\n",
    "\n",
    "print('please type numeric values as prompted')\n",
    "\n",
    "for feature in features:\n",
    "    valid = True\n",
    "    while valid:\n",
    "        val=input(feature + ':')\n",
    "        val=val.replace(',','.')\n",
    "        if not val.isdigit() or val.isdecimal(): valid=False\n",
    "            \n",
    "    predict[feature]=[float(val)] #por mas que sea un solo valor, es necesario que sea una lista\n",
    "    \n",
    "predictions = classifier.predict(input_fn= lambda:input_fn2(predict))\n",
    "\n",
    "for pred_dict in predictions:\n",
    "    class_id = pred_dict['class_ids'][0]\n",
    "    probability = pred_dict['probabilities'][class_id]\n",
    "    \n",
    "    print('prediction is {} and probaility is {:.2f}%'.format(species[class_id], probability*100))"
   ]
  },
  {
   "cell_type": "code",
   "execution_count": 14,
   "metadata": {},
   "outputs": [
    {
     "name": "stdout",
     "output_type": "stream",
     "text": [
      "<class 'int'>\n",
      "<class 'float'>\n"
     ]
    }
   ],
   "source": [
    "x=2\n",
    "print(type(x))\n",
    "\n",
    "y=float(x)\n",
    "print(type(y))"
   ]
  },
  {
   "cell_type": "code",
   "execution_count": null,
   "metadata": {},
   "outputs": [],
   "source": []
  }
 ],
 "metadata": {
  "kernelspec": {
   "display_name": "Python 3",
   "language": "python",
   "name": "python3"
  },
  "language_info": {
   "codemirror_mode": {
    "name": "ipython",
    "version": 3
   },
   "file_extension": ".py",
   "mimetype": "text/x-python",
   "name": "python",
   "nbconvert_exporter": "python",
   "pygments_lexer": "ipython3",
   "version": "3.8.8"
  }
 },
 "nbformat": 4,
 "nbformat_minor": 4
}
