{
 "cells": [
  {
   "cell_type": "code",
   "execution_count": 7,
   "metadata": {},
   "outputs": [
    {
     "name": "stdout",
     "output_type": "stream",
     "text": [
      "ingrese el nombre del archivo:curvas de crecimiento\n",
      "ingrese el intervalo de tiempo (minutos) entre medidas:15\n",
      "ingrese el nombre del excel en que se almacenarán los datos procesados:datos procesados\n"
     ]
    }
   ],
   "source": [
    "def Procesamiento(entrada= input(\"ingrese el nombre del archivo:\"), \n",
    "                  intervalo= input(\"ingrese el intervalo de tiempo (minutos) entre medidas:\"),\n",
    "                  salida= input(\"ingrese el nombre del excel en que se almacenarán los datos procesados:\")\n",
    "                  ):\n",
    "    \n",
    "    import pandas as pd\n",
    "    import numpy as np\n",
    "    \n",
    "    #path=r'C:\\Program Files (x86)\\BMG\\Omega\\User\\Data\\\\\\\\'\n",
    "    path= r'C:\\Users\\msaba\\Programas\\\\\\\\'\n",
    "    direccion=path + entrada + '.xlsx'\n",
    "    \n",
    "    data= pd.read_excel(direccion)\n",
    "    \n",
    "    largo_df= len(data['Unnamed: 2'])\n",
    "    cantidad_medidas=int(largo_df / 12)\n",
    "    lista_listas=[]\n",
    "    i=1\n",
    "    while i<13:\n",
    "        nombre_col='Unnamed: {}'.format(i)\n",
    "        for j in range(14,22):\n",
    "            lista_valores=[]\n",
    "            for z in range(j,largo_df,12):\n",
    "                valor= data[nombre_col].loc[z]\n",
    "                lista_valores.append(valor)\n",
    "            lista_listas.append(lista_valores)\n",
    "        i+=1\n",
    "    \n",
    "    lista_listas\n",
    "\n",
    "    data2=pd.DataFrame(lista_listas)\n",
    "    data3=data2.T\n",
    "   \n",
    "    letras=['A', 'B', 'C', 'D', 'E', 'F', 'G', 'H']\n",
    "    numeros = ['1','2','3','4','5','6','7','8', '9', '10', '11', '12']\n",
    "\n",
    "    posiciones=[]\n",
    "\n",
    "    for numero in numeros:\n",
    "        for letra in letras:\n",
    "            pos='{}{}'.format(letra, numero)\n",
    "            posiciones.append(pos)\n",
    "            \n",
    "    tiempos=[]\n",
    "    for medida in range(cantidad_medidas):\n",
    "        tiempo=medida*int(intervalo)\n",
    "        tiempos.append(tiempo)\n",
    "        \n",
    "    data3.index=tiempos\n",
    "    data3.columns=posiciones\n",
    "    data3.to_excel(salida + '.xlsx')\n",
    "\n",
    "Procesamiento()"
   ]
  }
 ],
 "metadata": {
  "kernelspec": {
   "display_name": "Python 3",
   "language": "python",
   "name": "python3"
  },
  "language_info": {
   "codemirror_mode": {
    "name": "ipython",
    "version": 3
   },
   "file_extension": ".py",
   "mimetype": "text/x-python",
   "name": "python",
   "nbconvert_exporter": "python",
   "pygments_lexer": "ipython3",
   "version": "3.8.5"
  }
 },
 "nbformat": 4,
 "nbformat_minor": 4
}
