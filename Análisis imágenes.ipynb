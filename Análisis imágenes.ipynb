{
 "cells": [
  {
   "cell_type": "code",
   "execution_count": 14,
   "metadata": {},
   "outputs": [],
   "source": [
    "import cv2\n",
    "imagen= cv2.imread('Imagen prueba.jpg')\n",
    "grises= cv2.cvtColor(imagen, cv2.COLOR_BGR2GRAY) #para cambiar colores, el codigo puesto es para escala de grises, hay cientos\n",
    "_,umbral=cv2.threshold(grises, 100, 255, cv2.THRESH_BINARY) # devuelve el umbral (en este caso 100, probar para encontrar lo mejor), y la imagen \"umbralizada\", es decir, en ByN\n",
    "contorno, jerarquia=cv2.findContours (umbral, cv2.RETR_LIST, cv2.CHAIN_APPROX_SIMPLE) #arg1, imagen; arg2, modo de recuperacion; arg3, método de aproximacion\n",
    "contornos_imagen=cv2.drawContours(imagen, contorno, -1, (0, 200, 0), 3) # arg3 es un indice para seleccionar contornos, -1 te da todos\n",
    "\n",
    "#para mostrar imagen\n",
    "# cv2.imshow('original', imagen)\n",
    "# cv2.imshow('escala de grises', grises)\n",
    "# cv2.imshow('umbralizada', umbral)\n",
    "cv2.imshow('contornos', contornos_imagen)\n",
    "cv2.waitKey(0)\n",
    "cv2.destroyAllWindows()"
   ]
  },
  {
   "cell_type": "code",
   "execution_count": null,
   "metadata": {},
   "outputs": [],
   "source": []
  }
 ],
 "metadata": {
  "kernelspec": {
   "display_name": "Python 3",
   "language": "python",
   "name": "python3"
  },
  "language_info": {
   "codemirror_mode": {
    "name": "ipython",
    "version": 3
   },
   "file_extension": ".py",
   "mimetype": "text/x-python",
   "name": "python",
   "nbconvert_exporter": "python",
   "pygments_lexer": "ipython3",
   "version": "3.8.5"
  }
 },
 "nbformat": 4,
 "nbformat_minor": 4
}
